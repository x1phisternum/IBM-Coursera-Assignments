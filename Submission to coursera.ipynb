{
 "cells": [
  {
   "cell_type": "markdown",
   "id": "3eecaf36",
   "metadata": {},
   "source": [
    "# My Jupyter Notebook on IBM Watson Studio"
   ]
  },
  {
   "cell_type": "markdown",
   "id": "6732f298",
   "metadata": {},
   "source": [
    "__Atharv Sawant__\n",
    "\n",
    "Desired Occupation: Analyst"
   ]
  },
  {
   "cell_type": "markdown",
   "id": "ae86dfc9",
   "metadata": {},
   "source": [
    "***Data Science is an exciting and rapidly growing field that has the potential to revolutionize the way businesses, organizations, and individuals make decisions. With the ability to access and analyze large amounts of data, data scientists can uncover insights that can lead to better decision-making, improved customer engagement, and even new products or services. Additionally, data science can be used to create predictive models that can anticipate customer behavior, enabling organizations to better plan for the future.***"
   ]
  },
  {
   "cell_type": "markdown",
   "id": "e55ce40f",
   "metadata": {},
   "source": [
    "### This will print the addition of a and b"
   ]
  },
  {
   "cell_type": "code",
   "execution_count": 3,
   "id": "c8189e16",
   "metadata": {},
   "outputs": [
    {
     "name": "stdout",
     "output_type": "stream",
     "text": [
      "30\n"
     ]
    }
   ],
   "source": [
    "a = 10\n",
    "b = 20\n",
    "\n",
    "c = a + b\n",
    "\n",
    "print(c)"
   ]
  },
  {
   "cell_type": "markdown",
   "id": "68b5b97e",
   "metadata": {},
   "source": [
    "[Example of Hyperlink](https://www.youtube.com/watch?v=XC61ctX03PQ)"
   ]
  },
  {
   "cell_type": "markdown",
   "id": "ca5b1398",
   "metadata": {},
   "source": [
    "Example of Horizontal Rule\n",
    "***"
   ]
  },
  {
   "cell_type": "markdown",
   "id": "ee322ab0",
   "metadata": {},
   "source": [
    "1. This\n",
    "2. Is An\n",
    "3. Example\n",
    "4. Of\n",
    "5. Numbered List"
   ]
  }
 ],
 "metadata": {
  "kernelspec": {
   "display_name": "Python 3 (ipykernel)",
   "language": "python",
   "name": "python3"
  },
  "language_info": {
   "codemirror_mode": {
    "name": "ipython",
    "version": 3
   },
   "file_extension": ".py",
   "mimetype": "text/x-python",
   "name": "python",
   "nbconvert_exporter": "python",
   "pygments_lexer": "ipython3",
   "version": "3.9.5"
  }
 },
 "nbformat": 4,
 "nbformat_minor": 5
}
